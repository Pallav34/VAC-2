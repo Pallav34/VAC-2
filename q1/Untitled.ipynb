{
 "cells": [
  {
   "cell_type": "code",
   "execution_count": 1,
   "id": "4df93042-8bbd-4478-81b5-567fea21228f",
   "metadata": {},
   "outputs": [],
   "source": [
    "import pandas as pd"
   ]
  },
  {
   "cell_type": "code",
   "execution_count": 2,
   "id": "473eeac0-5c0e-4042-a9d5-9705aeb700fb",
   "metadata": {},
   "outputs": [],
   "source": [
    "df = pd.read_csv('iris.csv')"
   ]
  },
  {
   "cell_type": "code",
   "execution_count": 3,
   "id": "59ff7dff-0600-442c-a6e4-3f34feb0a538",
   "metadata": {},
   "outputs": [
    {
     "name": "stdout",
     "output_type": "stream",
     "text": [
      "Column Names:\n",
      "['sepal_length', 'sepal_width', 'petal_length', 'petal_width', 'species']\n"
     ]
    }
   ],
   "source": [
    "# 1. Print column names\n",
    "print(\"Column Names:\")\n",
    "print(df.columns.tolist())"
   ]
  },
  {
   "cell_type": "code",
   "execution_count": 4,
   "id": "2be93b09-ccfe-4166-8aa5-b7369caee872",
   "metadata": {},
   "outputs": [
    {
     "name": "stdout",
     "output_type": "stream",
     "text": [
      "Numerical Columns:\n",
      "['sepal_length', 'sepal_width', 'petal_length', 'petal_width']\n"
     ]
    }
   ],
   "source": [
    "# 2. Get numerical columns\n",
    "numerical_columns = df.select_dtypes(include=['number']).columns.tolist()\n",
    "print(\"Numerical Columns:\")\n",
    "print(numerical_columns)"
   ]
  },
  {
   "cell_type": "code",
   "execution_count": 5,
   "id": "c7b899e7-2ea2-4a37-b41a-c3e62eb42ae5",
   "metadata": {},
   "outputs": [
    {
     "name": "stdout",
     "output_type": "stream",
     "text": [
      "Stats Table:\n",
      "      species  sepal_length  sepal_width  petal_length  petal_width\n",
      "0      setosa         5.006        3.428         1.462        0.246\n",
      "1  versicolor         5.936        2.770         4.260        1.326\n",
      "2   virginica         6.588        2.974         5.552        2.026\n"
     ]
    }
   ],
   "source": [
    "# 3. Compute mean of numerical columns for each species\n",
    "stats_table = df.groupby('species')[numerical_columns].mean().reset_index()\n",
    "print(\"Stats Table:\")\n",
    "print(stats_table)"
   ]
  },
  {
   "cell_type": "code",
   "execution_count": null,
   "id": "94f9baf6-da23-4c33-b8f2-1b3e053eacad",
   "metadata": {},
   "outputs": [],
   "source": []
  }
 ],
 "metadata": {
  "kernelspec": {
   "display_name": "Python 3 (ipykernel)",
   "language": "python",
   "name": "python3"
  },
  "language_info": {
   "codemirror_mode": {
    "name": "ipython",
    "version": 3
   },
   "file_extension": ".py",
   "mimetype": "text/x-python",
   "name": "python",
   "nbconvert_exporter": "python",
   "pygments_lexer": "ipython3",
   "version": "3.11.7"
  }
 },
 "nbformat": 4,
 "nbformat_minor": 5
}
