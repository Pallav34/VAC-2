{
 "cells": [
  {
   "cell_type": "code",
   "execution_count": 1,
   "id": "b4bfd849-1b7b-45fe-9db7-cfa007bc5ff5",
   "metadata": {},
   "outputs": [],
   "source": [
    "import numpy as np"
   ]
  },
  {
   "cell_type": "code",
   "execution_count": 2,
   "id": "e53a504d-71f9-4f98-8a32-9800daaf5a4d",
   "metadata": {},
   "outputs": [],
   "source": [
    "# Define all possible input combinations\n",
    "inputs = [(x, y, z) for x in [-1, 1] for y in [-1, 1] for z in [-1, 1]]"
   ]
  },
  {
   "cell_type": "code",
   "execution_count": 3,
   "id": "d7ac550f-5716-40f1-8e90-61aa97ba171e",
   "metadata": {},
   "outputs": [],
   "source": [
    "# Define the desired outputs based on the conditions\n",
    "# Output = z if x = -1 and y = 1, else -1\n",
    "desired_outputs = [z if (x == -1 and y == 1) else -1 for x, y, z in inputs]"
   ]
  },
  {
   "cell_type": "code",
   "execution_count": 4,
   "id": "fd76135c-5fb9-4ee6-b46a-71fe8061af68",
   "metadata": {},
   "outputs": [],
   "source": [
    "# Function to calculate the output of the M-P neuron\n",
    "def mp_neuron_output(weights, bias, input_vector):\n",
    "    result = np.dot(weights, input_vector) + bias\n",
    "    return 1 if result >= 0 else -1"
   ]
  },
  {
   "cell_type": "code",
   "execution_count": 5,
   "id": "1211b05d-689f-4d1a-a8b8-a8d25208b84d",
   "metadata": {},
   "outputs": [],
   "source": [
    "# Function to find suitable weights and bias\n",
    "def find_weights_and_bias():\n",
    "    for w1 in range(-3, 4):  # Search weights in a reasonable range\n",
    "        for w2 in range(-3, 4):\n",
    "            for w3 in range(-3, 4):\n",
    "                for b in range(-3, 4):\n",
    "                    weights = np.array([w1, w2, w3])\n",
    "                    bias = b\n",
    "                    valid = True\n",
    "                    for (x, y, z), expected_output in zip(inputs, desired_outputs):\n",
    "                        input_vector = np.array([x, y, z])\n",
    "                        output = mp_neuron_output(weights, bias, input_vector)\n",
    "                        if output != expected_output:\n",
    "                            valid = False\n",
    "                            break\n",
    "                    if valid:\n",
    "                        return weights, bias\n",
    "    return None, None  # Return None if no solution found"
   ]
  },
  {
   "cell_type": "code",
   "execution_count": 6,
   "id": "0d57ead8-f1b0-4809-951a-6e8e250ba17d",
   "metadata": {},
   "outputs": [
    {
     "name": "stdout",
     "output_type": "stream",
     "text": [
      "Suitable weights: [-2  1  1]\n",
      "Suitable bias: -3\n"
     ]
    }
   ],
   "source": [
    "# Find the weights and bias\n",
    "weights, bias = find_weights_and_bias()\n",
    "\n",
    "# Output the results\n",
    "if weights is not None:\n",
    "    print(f\"Suitable weights: {weights}\")\n",
    "    print(f\"Suitable bias: {bias}\")\n",
    "else:\n",
    "    print(\"No solution found.\")"
   ]
  },
  {
   "cell_type": "code",
   "execution_count": null,
   "id": "8ceb53ba-59de-4416-bf7e-c67eb73ec69c",
   "metadata": {},
   "outputs": [],
   "source": []
  }
 ],
 "metadata": {
  "kernelspec": {
   "display_name": "Python 3 (ipykernel)",
   "language": "python",
   "name": "python3"
  },
  "language_info": {
   "codemirror_mode": {
    "name": "ipython",
    "version": 3
   },
   "file_extension": ".py",
   "mimetype": "text/x-python",
   "name": "python",
   "nbconvert_exporter": "python",
   "pygments_lexer": "ipython3",
   "version": "3.11.7"
  }
 },
 "nbformat": 4,
 "nbformat_minor": 5
}
