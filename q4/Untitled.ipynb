{
 "cells": [
  {
   "cell_type": "code",
   "execution_count": 1,
   "id": "a5191e35-c372-46d4-aebc-80e662dd2798",
   "metadata": {},
   "outputs": [],
   "source": [
    "import numpy as np"
   ]
  },
  {
   "cell_type": "code",
   "execution_count": 2,
   "id": "2e577512-217f-44ef-b55f-4148bd254e86",
   "metadata": {},
   "outputs": [],
   "source": [
    "# Define M and v\n",
    "M = np.array([[1, 2, 3], [2, 3, 0], [1, 3, 3]])\n",
    "v = np.array([3, 0, 2])"
   ]
  },
  {
   "cell_type": "code",
   "execution_count": 3,
   "id": "f4bf1506-fbe9-41eb-bc47-ec46ab81e7b3",
   "metadata": {},
   "outputs": [],
   "source": [
    "# Compute results\n",
    "Mv = np.dot(M, v)             # (a) Matrix-vector product\n",
    "vT_M = np.dot(v.T, M)         # (b) Vector-matrix product\n",
    "vT_v = np.dot(v.T, v)         # (c) Dot product of v with itself"
   ]
  },
  {
   "cell_type": "code",
   "execution_count": 4,
   "id": "0db7c887-e71e-4843-92fc-8e1770937f36",
   "metadata": {},
   "outputs": [
    {
     "name": "stdout",
     "output_type": "stream",
     "text": [
      "M.v = [9 6 9]\n",
      "v^T.M = [ 5 12 15]\n",
      "v^T.v = 13\n"
     ]
    }
   ],
   "source": [
    "# Display results\n",
    "print(\"M.v =\", Mv)\n",
    "print(\"v^T.M =\", vT_M)\n",
    "print(\"v^T.v =\", vT_v)"
   ]
  },
  {
   "cell_type": "code",
   "execution_count": null,
   "id": "45866b1c-253c-496d-ae33-8e6f094a1cd9",
   "metadata": {},
   "outputs": [],
   "source": []
  }
 ],
 "metadata": {
  "kernelspec": {
   "display_name": "Python 3 (ipykernel)",
   "language": "python",
   "name": "python3"
  },
  "language_info": {
   "codemirror_mode": {
    "name": "ipython",
    "version": 3
   },
   "file_extension": ".py",
   "mimetype": "text/x-python",
   "name": "python",
   "nbconvert_exporter": "python",
   "pygments_lexer": "ipython3",
   "version": "3.11.7"
  }
 },
 "nbformat": 4,
 "nbformat_minor": 5
}
